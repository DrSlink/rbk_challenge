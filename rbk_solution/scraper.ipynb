{
 "cells": [
  {
   "cell_type": "code",
   "execution_count": 4,
   "outputs": [],
   "source": [
    "from bs4 import BeautifulSoup\n",
    "import pandas as pd\n",
    "import requests\n",
    "import re\n",
    "from tqdm import tqdm"
   ],
   "metadata": {
    "collapsed": false,
    "pycharm": {
     "name": "#%%\n"
    }
   }
  },
  {
   "cell_type": "code",
   "execution_count": 5,
   "metadata": {
    "collapsed": true,
    "pycharm": {
     "name": "#%%\n"
    }
   },
   "outputs": [],
   "source": [
    "df_train = pd.read_csv(\"content/train.csv\", index_col=0)\n",
    "df_test = pd.read_csv(\"content/test.csv\", index_col=0)\n",
    "urls = set(df_test.index.str[:24]).union(set(df_train.index.str[:24]))"
   ]
  },
  {
   "cell_type": "code",
   "execution_count": 6,
   "outputs": [
    {
     "name": "stderr",
     "output_type": "stream",
     "text": [
      "100%|██████████| 9890/9890 [41:25<00:00,  3.98it/s]  \n"
     ]
    }
   ],
   "source": [
    "res_arr = []\n",
    "for url in tqdm(urls):\n",
    "    base = {'url': url, 'title': None, 'description': None, 'keywords': None, 'copyright': None,\n",
    "            'article_categories': None, 'article_authors': None, 'article_publication_date': None,\n",
    "            'article_word_count': None,\n",
    "            'text': None,}\n",
    "    try:\n",
    "        code = requests.get(f'https://www.rbc.ru/politics/01/01/2021/{url}')\n",
    "        html = BeautifulSoup(code.text, 'lxml')\n",
    "\n",
    "        base[\"title\"] = html.find('meta', attrs={'name': \"title\"})[\"content\"]\n",
    "        base[\"description\"] = html.find('meta', attrs={'name': \"description\"})[\"content\"]\n",
    "        base[\"keywords\"] = html.find('meta', attrs={'name': \"keywords\"})[\"content\"]\n",
    "        base[\"copyright\"] = html.find('meta', attrs={'name': \"copyright\"})[\"content\"]\n",
    "\n",
    "        for script in html.find_all('script', type=''):\n",
    "            if script.string and script.string.find('article_word_count') != -1:\n",
    "                sc_text = script.string\n",
    "                base[\"article_categories\"] = re.search(r'article_categories: \\[(.*?)],', sc_text).group(1)\n",
    "                base[\"article_authors\"] = re.search(r'article_authors: \\[(.*?)],', sc_text).group(1)\n",
    "                base[\"article_publication_date\"] = re.search(r'article_publication_date: \"(.*?)\"', sc_text).group(1)\n",
    "                base[\"article_word_count\"] = re.search(r'article_word_count: \"(.*?)\"', sc_text).group(1)\n",
    "                break\n",
    "\n",
    "        text = []\n",
    "        for div in html.find_all('div', attrs={'class': 'article__text'}):\n",
    "            if div:\n",
    "                for p in div.find_all('p'):\n",
    "                    if p.get_text().strip():\n",
    "                        text.append(p.get_text().strip())\n",
    "        base[\"text\"] = '|'.join(text)\n",
    "    except Exception as e:\n",
    "        print(e)\n",
    "    res_arr.append(base)"
   ],
   "metadata": {
    "collapsed": false,
    "pycharm": {
     "name": "#%%\n"
    }
   }
  },
  {
   "cell_type": "code",
   "execution_count": 7,
   "outputs": [],
   "source": [
    "scraped = pd.DataFrame(res_arr)"
   ],
   "metadata": {
    "collapsed": false,
    "pycharm": {
     "name": "#%%\n"
    }
   }
  },
  {
   "cell_type": "code",
   "execution_count": 10,
   "outputs": [],
   "source": [
    "scraped.to_csv(\"content/scraped.csv\", line_terminator='\\n', index=False)"
   ],
   "metadata": {
    "collapsed": false,
    "pycharm": {
     "name": "#%%\n"
    }
   }
  },
  {
   "cell_type": "code",
   "execution_count": null,
   "outputs": [],
   "source": [],
   "metadata": {
    "collapsed": false,
    "pycharm": {
     "name": "#%%\n"
    }
   }
  }
 ],
 "metadata": {
  "kernelspec": {
   "display_name": "Python 3",
   "language": "python",
   "name": "python3"
  },
  "language_info": {
   "codemirror_mode": {
    "name": "ipython",
    "version": 2
   },
   "file_extension": ".py",
   "mimetype": "text/x-python",
   "name": "python",
   "nbconvert_exporter": "python",
   "pygments_lexer": "ipython2",
   "version": "2.7.6"
  }
 },
 "nbformat": 4,
 "nbformat_minor": 0
}